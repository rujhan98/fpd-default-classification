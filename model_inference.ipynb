{
 "cells": [
  {
   "cell_type": "code",
   "execution_count": null,
   "id": "2500fd65",
   "metadata": {},
   "outputs": [],
   "source": [
    "#COMMENT THIS PIECE OF CODE IF THE SYSTEM ALREADY HAS THE DEPENDENCIES\n",
    "!pip install -r requirements.txt\n"
   ]
  },
  {
   "cell_type": "code",
   "execution_count": 4,
   "id": "e4fd3d28",
   "metadata": {},
   "outputs": [
    {
     "name": "stderr",
     "output_type": "stream",
     "text": [
      "/Users/rujhan98/anaconda3/lib/python3.11/site-packages/pandas/core/arrays/masked.py:60: UserWarning: Pandas requires version '1.3.6' or newer of 'bottleneck' (version '1.3.5' currently installed).\n",
      "  from pandas.core import (\n"
     ]
    }
   ],
   "source": [
    "import json,pickle\n",
    "import pandas as pd\n",
    "with open('input.json') as f:\n",
    "    input_file = json.load(f)\n",
    "file_name = input_file['file_name']"
   ]
  },
  {
   "cell_type": "code",
   "execution_count": 5,
   "id": "c973ded4",
   "metadata": {},
   "outputs": [],
   "source": [
    "df = pd.read_csv(file_name,index_col='lucid_id')"
   ]
  },
  {
   "cell_type": "code",
   "execution_count": 6,
   "id": "3622b0d0",
   "metadata": {},
   "outputs": [],
   "source": [
    "from model_utils import *\n",
    "with open(\"final_model_pipeline.pkl\", \"rb\") as f:\n",
    "    loaded_pipeline = pickle.load(f)\n",
    "\n",
    "predictions = loaded_pipeline.predict(df) #predict_proba() if probability score"
   ]
  },
  {
   "cell_type": "code",
   "execution_count": null,
   "id": "72105e43",
   "metadata": {},
   "outputs": [],
   "source": [
    "print(predictions)"
   ]
  },
  {
   "cell_type": "code",
   "execution_count": null,
   "id": "8c442ab4",
   "metadata": {},
   "outputs": [],
   "source": []
  }
 ],
 "metadata": {
  "kernelspec": {
   "display_name": "Python 3 (ipykernel)",
   "language": "python",
   "name": "python3"
  },
  "language_info": {
   "codemirror_mode": {
    "name": "ipython",
    "version": 3
   },
   "file_extension": ".py",
   "mimetype": "text/x-python",
   "name": "python",
   "nbconvert_exporter": "python",
   "pygments_lexer": "ipython3",
   "version": "3.11.5"
  }
 },
 "nbformat": 4,
 "nbformat_minor": 5
}
